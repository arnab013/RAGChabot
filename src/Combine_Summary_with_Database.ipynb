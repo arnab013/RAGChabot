{
 "cells": [
  {
   "cell_type": "code",
   "execution_count": 1,
   "metadata": {},
   "outputs": [],
   "source": [
    "import sys\n",
    "import pandas as pd"
   ]
  },
  {
   "cell_type": "code",
   "execution_count": 2,
   "metadata": {},
   "outputs": [],
   "source": [
    "source_csv = \"C:/Users/asaha/Downloads/RAG Chatbot/summarized_output.csv\"        # Path to the source CSV (contains 'final_summary')\n",
    "target_csv = \"C:/Users/asaha/Downloads/RAG Chatbot/sample_dataset.csv\"        # Path to the target CSV (will have 'description_text' replaced)\n",
    "output_csv = \"C:/Users/asaha/Downloads/RAG Chatbot/final_dataset.csv\"  # Path where the merged CSV will be written"
   ]
  },
  {
   "cell_type": "code",
   "execution_count": 3,
   "metadata": {},
   "outputs": [],
   "source": [
    "def merge_summary(source_path: str, target_path: str, output_path: str) -> None:\n",
    "    \"\"\"\n",
    "    Parameters\n",
    "    ----------\n",
    "    source_path : str\n",
    "        CSV that **contains** a `final_summary` column.\n",
    "    target_path : str\n",
    "        CSV whose `description_text` column will be replaced.\n",
    "    output_path : str\n",
    "        Where the merged CSV will be written.\n",
    "    \"\"\"\n",
    "\n",
    "    # 1. Load data (keep everything as text to avoid type surprises)\n",
    "    src = pd.read_csv(source_path, dtype=str)\n",
    "    tgt = pd.read_csv(target_path, dtype=str)\n",
    "\n",
    "    # 2. Build a Series that maps publication_number ➜ final_summary\n",
    "    #    If a publication_number appears more than once in the source,\n",
    "    #    we keep the first occurrence; drop duplicates to be explicit.\n",
    "    summary_map = (\n",
    "        src.drop_duplicates(subset=\"publication_number\")\n",
    "           .set_index(\"publication_number\")[\"final_summary\"]\n",
    "    )\n",
    "\n",
    "    # 3. Replace description_text in the target, when we have a match.\n",
    "    #    Where there’s no match, we keep the original description_text.\n",
    "    tgt[\"description_text\"] = (\n",
    "        tgt[\"publication_number\"]\n",
    "           .map(summary_map)\n",
    "           .fillna(tgt[\"description_text\"])\n",
    "    )\n",
    "\n",
    "    # 4. Save\n",
    "    tgt.to_csv(output_path, index=False, encoding=\"utf-8\")\n",
    "\n",
    "    print(f\"✅  Updated CSV written to: {output_path}\")"
   ]
  },
  {
   "cell_type": "code",
   "execution_count": 7,
   "metadata": {},
   "outputs": [
    {
     "name": "stdout",
     "output_type": "stream",
     "text": [
      "✅  Updated CSV written to: C:/Users/asaha/Downloads/RAG Chatbot/final_dataset.csv\n"
     ]
    }
   ],
   "source": [
    "# Run the merge_summary function using the defined file paths\n",
    "merge_summary(source_csv, target_csv, output_csv)\n"
   ]
  },
  {
   "cell_type": "code",
   "execution_count": null,
   "metadata": {
    "vscode": {
     "languageId": "r"
    }
   },
   "outputs": [
    {
     "name": "stdout",
     "output_type": "stream",
     "text": [
      "Number of publication_numbers in target not found in source: 0\n",
      "Number of publication_numbers in source not found in target: 0\n"
     ]
    }
   ],
   "source": [
    "# Load both CSVs as DataFrames\n",
    "src_df = pd.read_csv(source_csv, dtype=str)\n",
    "tgt_df = pd.read_csv(target_csv, dtype=str)\n",
    "\n",
    "# Get sets of publication numbers from each\n",
    "src_pub_numbers = set(src_df[\"publication_number\"])\n",
    "tgt_pub_numbers = set(tgt_df[\"publication_number\"])\n",
    "\n",
    "# Find publication numbers in target that are not in source\n",
    "unmatched_pub_numbers = tgt_pub_numbers - src_pub_numbers\n",
    "print(f\"Number of publication_numbers in target not found in source: {len(unmatched_pub_numbers)}\")\n",
    "\n",
    "\n",
    "# Find publication numbers in source not found in target\n",
    "unmatched_in_source = src_pub_numbers - tgt_pub_numbers\n",
    "print(f\"Number of publication_numbers in source not found in target: {len(unmatched_in_source)}\")\n"
   ]
  },
  {
   "cell_type": "code",
   "execution_count": null,
   "metadata": {},
   "outputs": [],
   "source": [
    "Mixtral_API_KEY = \"jyRBVvRGl2ZAZjtF8W5rHlwxqcDPC7m5\""
   ]
  }
 ],
 "metadata": {
  "kernelspec": {
   "display_name": "myenv",
   "language": "python",
   "name": "python3"
  },
  "language_info": {
   "codemirror_mode": {
    "name": "ipython",
    "version": 3
   },
   "file_extension": ".py",
   "mimetype": "text/x-python",
   "name": "python",
   "nbconvert_exporter": "python",
   "pygments_lexer": "ipython3",
   "version": "3.13.1"
  }
 },
 "nbformat": 4,
 "nbformat_minor": 2
}
